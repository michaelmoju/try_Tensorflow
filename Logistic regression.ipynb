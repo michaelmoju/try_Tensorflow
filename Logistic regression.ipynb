{
 "cells": [
  {
   "cell_type": "code",
   "execution_count": 90,
   "metadata": {},
   "outputs": [],
   "source": [
    "import tensorflow as tf\n",
    "import numpy as np\n",
    "import matplotlib.pyplot as plt"
   ]
  },
  {
   "cell_type": "code",
   "execution_count": 91,
   "metadata": {},
   "outputs": [],
   "source": [
    "x_data = np.random.rand(100).astype(np.float32)\n",
    "y_data = 5 * x_data +2"
   ]
  },
  {
   "cell_type": "code",
   "execution_count": 92,
   "metadata": {},
   "outputs": [
    {
     "data": {
      "image/png": "[encoded data removed]",
      "text/plain": [
       "<Figure size 432x288 with 1 Axes>"
      ]
     },
     "metadata": {
      "needs_background": "light"
     },
     "output_type": "display_data"
    }
   ],
   "source": [
    "plt.plot(x_data, y_data, 'ro', label='Original data')\n",
    "plt.legend()\n",
    "plt.show()"
   ]
  },
  {
   "cell_type": "code",
   "execution_count": 96,
   "metadata": {},
   "outputs": [],
   "source": [
    "model = tf.keras.Sequential()\n",
    "model.add(tf.keras.layers.Input((1,)))\n",
    "model.add(tf.keras.layers.Dense(1))"
   ]
  },
  {
   "cell_type": "code",
   "execution_count": 107,
   "metadata": {},
   "outputs": [],
   "source": [
    "model.compile(optimizer=tf.optimizers.Adam(0.01),\n",
    "              loss='mse',\n",
    "              metrics=['mae'])"
   ]
  },
  {
   "cell_type": "code",
   "execution_count": 109,
   "metadata": {},
   "outputs": [
    {
     "name": "stdout",
     "output_type": "stream",
     "text": [
      "Epoch 1/30\n",
      "100/100 [==============================] - 0s 178us/sample - loss: 0.0035 - mae: 0.0509\n",
      "Epoch 2/30\n",
      "100/100 [==============================] - 0s 149us/sample - loss: 0.0033 - mae: 0.0493\n",
      "Epoch 3/30\n",
      "100/100 [==============================] - 0s 246us/sample - loss: 0.0030 - mae: 0.0477\n",
      "Epoch 4/30\n",
      "100/100 [==============================] - 0s 225us/sample - loss: 0.0028 - mae: 0.0460\n",
      "Epoch 5/30\n",
      "100/100 [==============================] - 0s 271us/sample - loss: 0.0026 - mae: 0.0444\n",
      "Epoch 6/30\n",
      "100/100 [==============================] - 0s 125us/sample - loss: 0.0025 - mae: 0.0429\n",
      "Epoch 7/30\n",
      "100/100 [==============================] - 0s 103us/sample - loss: 0.0023 - mae: 0.0414\n",
      "Epoch 8/30\n",
      "100/100 [==============================] - 0s 134us/sample - loss: 0.0022 - mae: 0.0401\n",
      "Epoch 9/30\n",
      "100/100 [==============================] - 0s 143us/sample - loss: 0.0020 - mae: 0.0386\n",
      "Epoch 10/30\n",
      "100/100 [==============================] - 0s 148us/sample - loss: 0.0019 - mae: 0.0372\n",
      "Epoch 11/30\n",
      "100/100 [==============================] - 0s 144us/sample - loss: 0.0017 - mae: 0.0359\n",
      "Epoch 12/30\n",
      "100/100 [==============================] - 0s 151us/sample - loss: 0.0016 - mae: 0.0346\n",
      "Epoch 13/30\n",
      "100/100 [==============================] - 0s 152us/sample - loss: 0.0015 - mae: 0.0333\n",
      "Epoch 14/30\n",
      "100/100 [==============================] - 0s 143us/sample - loss: 0.0014 - mae: 0.0321\n",
      "Epoch 15/30\n",
      "100/100 [==============================] - 0s 135us/sample - loss: 0.0013 - mae: 0.0310\n",
      "Epoch 16/30\n",
      "100/100 [==============================] - 0s 93us/sample - loss: 0.0012 - mae: 0.0298\n",
      "Epoch 17/30\n",
      "100/100 [==============================] - 0s 78us/sample - loss: 0.0011 - mae: 0.0288\n",
      "Epoch 18/30\n",
      "100/100 [==============================] - 0s 92us/sample - loss: 0.0010 - mae: 0.0277\n",
      "Epoch 19/30\n",
      "100/100 [==============================] - 0s 73us/sample - loss: 9.5104e-04 - mae: 0.0266\n",
      "Epoch 20/30\n",
      "100/100 [==============================] - 0s 109us/sample - loss: 8.8544e-04 - mae: 0.0257\n",
      "Epoch 21/30\n",
      "100/100 [==============================] - 0s 158us/sample - loss: 8.1362e-04 - mae: 0.0246\n",
      "Epoch 22/30\n",
      "100/100 [==============================] - 0s 169us/sample - loss: 7.5364e-04 - mae: 0.0237\n",
      "Epoch 23/30\n",
      "100/100 [==============================] - 0s 156us/sample - loss: 6.9870e-04 - mae: 0.0228\n",
      "Epoch 24/30\n",
      "100/100 [==============================] - 0s 161us/sample - loss: 6.4126e-04 - mae: 0.0219\n",
      "Epoch 25/30\n",
      "100/100 [==============================] - 0s 130us/sample - loss: 5.9714e-04 - mae: 0.0211\n",
      "Epoch 26/30\n",
      "100/100 [==============================] - 0s 130us/sample - loss: 5.4722e-04 - mae: 0.0202\n",
      "Epoch 27/30\n",
      "100/100 [==============================] - 0s 149us/sample - loss: 5.0382e-04 - mae: 0.0194\n",
      "Epoch 28/30\n",
      "100/100 [==============================] - 0s 177us/sample - loss: 4.6512e-04 - mae: 0.0186\n",
      "Epoch 29/30\n",
      "100/100 [==============================] - 0s 100us/sample - loss: 4.2736e-04 - mae: 0.0178\n",
      "Epoch 30/30\n",
      "100/100 [==============================] - 0s 157us/sample - loss: 3.9410e-04 - mae: 0.0171\n"
     ]
    },
    {
     "data": {
      "text/plain": [
       "<tensorflow.python.keras.callbacks.History at 0x132c8f128>"
      ]
     },
     "execution_count": 109,
     "metadata": {},
     "output_type": "execute_result"
    }
   ],
   "source": [
    "model.fit(x_data, y_data, batch_size=10, epochs=30)"
   ]
  },
  {
   "cell_type": "code",
   "execution_count": null,
   "metadata": {},
   "outputs": [],
   "source": []
  },
  {
   "cell_type": "code",
   "execution_count": 111,
   "metadata": {},
   "outputs": [],
   "source": [
    "a = np.zeros((1,))"
   ]
  },
  {
   "cell_type": "code",
   "execution_count": 112,
   "metadata": {},
   "outputs": [
    {
     "data": {
      "text/plain": [
       "array([[2.0374146]], dtype=float32)"
      ]
     },
     "execution_count": 112,
     "metadata": {},
     "output_type": "execute_result"
    }
   ],
   "source": [
    "model.predict(a)"
   ]
  },
  {
   "cell_type": "code",
   "execution_count": null,
   "metadata": {},
   "outputs": [],
   "source": []
  },
  {
   "cell_type": "code",
   "execution_count": null,
   "metadata": {},
   "outputs": [],
   "source": []
  }
 ],
 "metadata": {
  "kernelspec": {
   "display_name": "Python 3",
   "language": "python",
   "name": "python3"
  },
  "language_info": {
   "codemirror_mode": {
    "name": "ipython",
    "version": 3
   },
   "file_extension": ".py",
   "mimetype": "text/x-python",
   "name": "python",
   "nbconvert_exporter": "python",
   "pygments_lexer": "ipython3",
   "version": "3.6.5"
  }
 },
 "nbformat": 4,
 "nbformat_minor": 2
}
